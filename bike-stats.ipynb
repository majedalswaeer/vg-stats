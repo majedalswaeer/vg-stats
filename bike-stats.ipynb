{
 "cells": [
  {
   "cell_type": "markdown",
   "metadata": {},
   "source": [
    "# Data Analysis with Pandas\n",
    "- This notesbook deals with `Bikes Data set`\n",
    "- `Author`: Majed AL-Swaeer\n",
    "- `Date`: 25-10-2021"
   ]
  },
  {
   "cell_type": "code",
   "execution_count": 118,
   "metadata": {},
   "outputs": [
    {
     "name": "stderr",
     "output_type": "stream",
     "text": [
      "/home/ms/vg-stats/.venv/lib/python3.9/site-packages/IPython/core/interactiveshell.py:3444: FutureWarning: The error_bad_lines argument has been deprecated and will be removed in a future version.\n",
      "\n",
      "\n",
      "  exec(code_obj, self.user_global_ns, self.user_ns)\n",
      "b'Skipping line 50794: expected 12 fields, saw 20\\n'\n"
     ]
    }
   ],
   "source": [
    "import pandas as pd\n",
    "original_df_station=pd.read_csv('station.csv')\n",
    "original_df_vgsales=pd.read_csv('vgsales.csv')\n",
    "original_df_weather=pd.read_csv('weather.csv')\n",
    "# Solved the error for trip csv file\n",
    "original_df_trip=pd.read_csv('trip.csv',error_bad_lines=False)\n"
   ]
  },
  {
   "cell_type": "code",
   "execution_count": 119,
   "metadata": {},
   "outputs": [],
   "source": [
    "# What is the average trip duration for a borrowed bicycle?\n",
    "mean_dur=original_df_trip['tripduration'].mean()\n",
    "\n"
   ]
  },
  {
   "cell_type": "code",
   "execution_count": 120,
   "metadata": {},
   "outputs": [],
   "source": [
    "# What’s the most common age of a bicycle-sharer?\n",
    "mode_age=2021-original_df_trip['birthyear'].mode()[0]\n",
    "\n"
   ]
  },
  {
   "cell_type": "code",
   "execution_count": 121,
   "metadata": {},
   "outputs": [],
   "source": [
    "\n",
    "# Given all the weather data here, find the average precipitation per month, and the median precipitation.\n",
    "prec_per_mon=original_df_weather.groupby(pd.PeriodIndex(original_df_weather['Date'], freq=\"M\"))['Precipitation_In'].mean().reset_index()\n",
    "\n",
    "median_prec=original_df_weather['Precipitation_In'].median(skipna=True)\n"
   ]
  },
  {
   "cell_type": "code",
   "execution_count": 122,
   "metadata": {},
   "outputs": [],
   "source": [
    "# What’s the average number of bikes at a given bike station?\n",
    "original_df_station\n",
    "avg_bikes=int(original_df_station['current_dockcount'].mean())\n",
    "\n",
    "\n"
   ]
  },
  {
   "cell_type": "code",
   "execution_count": 123,
   "metadata": {},
   "outputs": [],
   "source": [
    "# When a bike station is modified, is it more likely that it’ll lose bikes or gain bikes? How do you know?\n",
    "# Ans: we will know that by calculating the differance between install and current dockcount\n",
    "not_modeifed=original_df_station['install_dockcount'].mean()\n",
    "modeifed=original_df_station['current_dockcount'].mean()\n",
    "result=f'the mean is {not_modeifed} before modifecation, also the mean is {modeifed} after modifecation, as a result the modified station lost some bikes'\n"
   ]
  },
  {
   "cell_type": "code",
   "execution_count": 124,
   "metadata": {},
   "outputs": [],
   "source": [
    "# Come up with 3 more questions that can be answered with this data set.\n",
    "# 1- what is the longest trip ?\n",
    "longest_trip=original_df_trip.nlargest(1,'tripduration')['tripduration'].iloc[0]\n",
    "# 2- from which station was the longest trip ?\n",
    "from_trip=original_df_trip.nlargest(1,'tripduration')['from_station_name'].iloc[0]\n",
    "# 3- what was the destination station of the longest trip ?\n",
    "to_trip=original_df_trip.nlargest(1,'tripduration')['to_station_name'].iloc[0]\n"
   ]
  },
  {
   "cell_type": "code",
   "execution_count": 125,
   "metadata": {},
   "outputs": [
    {
     "name": "stdout",
     "output_type": "stream",
     "text": [
      "Success!!!\n"
     ]
    }
   ],
   "source": [
    "# Test\n",
    "def test():\n",
    "\n",
    "    def assert_equal(actual,expected):\n",
    "        assert actual == expected, f\"Expected {expected} but got {actual}\"\n",
    "\n",
    "    assert_equal(mean_dur, 1178.2956753399776)\n",
    "    assert_equal(mode_age, 34)\n",
    "    assert_equal(prec_per_mon['Precipitation_In'][0], 0.3005263157894737)\n",
    "    assert_equal(prec_per_mon['Precipitation_In'][22], 0.000967741935483871)\n",
    "    assert_equal(avg_bikes,16)\n",
    "    assert_equal(result, 'the mean is 17.586206896551722 before modifecation, also the mean is 16.517241379310345 after modifecation, as a result the modified station lost some bikes')\n",
    "    assert_equal(longest_trip, 28794.398)\n",
    "    assert_equal(from_trip, 'Eastlake Ave E & E Allison St')\n",
    "    assert_equal(to_trip, '2nd Ave & Pine St')\n",
    "\n",
    "\n",
    "    print(\"Success!!!\")\n",
    "\n",
    "test()"
   ]
  }
 ],
 "metadata": {
  "interpreter": {
   "hash": "897a9deb64f6d6ad641da47aeca2ff95ec3081fe484809afe64247c3b59420bf"
  },
  "kernelspec": {
   "display_name": "Python 3.9.5 64-bit ('.venv': poetry)",
   "name": "python3"
  },
  "language_info": {
   "codemirror_mode": {
    "name": "ipython",
    "version": 3
   },
   "file_extension": ".py",
   "mimetype": "text/x-python",
   "name": "python",
   "nbconvert_exporter": "python",
   "pygments_lexer": "ipython3",
   "version": "3.9.5"
  },
  "orig_nbformat": 4
 },
 "nbformat": 4,
 "nbformat_minor": 2
}
